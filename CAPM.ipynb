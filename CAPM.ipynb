{
  "nbformat": 4,
  "nbformat_minor": 0,
  "metadata": {
    "colab": {
      "provenance": [],
      "authorship_tag": "ABX9TyO0/+Ed+OPumm7JAOtio6Z3",
      "include_colab_link": true
    },
    "kernelspec": {
      "name": "python3",
      "display_name": "Python 3"
    },
    "language_info": {
      "name": "python"
    }
  },
  "cells": [
    {
      "cell_type": "markdown",
      "metadata": {
        "id": "view-in-github",
        "colab_type": "text"
      },
      "source": [
        "<a href=\"https://colab.research.google.com/github/newmantic/CAPM/blob/main/CAPM.ipynb\" target=\"_parent\"><img src=\"https://colab.research.google.com/assets/colab-badge.svg\" alt=\"Open In Colab\"/></a>"
      ]
    },
    {
      "cell_type": "code",
      "execution_count": 1,
      "metadata": {
        "colab": {
          "base_uri": "https://localhost:8080/"
        },
        "id": "Nq3SK4EI3RhZ",
        "outputId": "af107905-cea1-4efd-c837-127407998636"
      },
      "outputs": [
        {
          "output_type": "stream",
          "name": "stdout",
          "text": [
            "Calculated Beta: 1.14\n",
            "Expected Return (using CAPM): 0.09\n"
          ]
        }
      ],
      "source": [
        "import numpy as np\n",
        "import pandas as pd\n",
        "\n",
        "def calculate_beta(asset_returns, market_returns):\n",
        "    \"\"\"\n",
        "    Calculate the beta of the asset relative to the market.\n",
        "\n",
        "    :param asset_returns: Array of returns for the asset\n",
        "    :param market_returns: Array of returns for the market\n",
        "    :return: Beta of the asset\n",
        "    \"\"\"\n",
        "    covariance = np.cov(asset_returns, market_returns)[0, 1]\n",
        "    variance = np.var(market_returns)\n",
        "    beta = covariance / variance\n",
        "    return beta\n",
        "\n",
        "def calculate_expected_return(risk_free_rate, beta, market_return):\n",
        "    \"\"\"\n",
        "    Calculate the expected return of an asset using the CAPM formula.\n",
        "\n",
        "    :param risk_free_rate: Risk-free rate\n",
        "    :param beta: Beta of the asset\n",
        "    :param market_return: Expected return of the market\n",
        "    :return: Expected return of the asset\n",
        "    \"\"\"\n",
        "    return risk_free_rate + beta * (market_return - risk_free_rate)\n",
        "\n",
        "# Example\n",
        "\n",
        "# Assume we have historical return data for an asset and the market\n",
        "np.random.seed(42)\n",
        "market_returns = np.random.normal(0.05, 0.1, 100)  # Simulate 100 market returns\n",
        "asset_returns = market_returns * 1.2 + np.random.normal(0, 0.05, 100)  # Asset returns with a beta of ~1.2\n",
        "\n",
        "# Parameters\n",
        "risk_free_rate = 0.02  # 2% risk-free rate\n",
        "market_return = 0.08   # 8% expected market return\n",
        "\n",
        "# Calculate beta\n",
        "beta = calculate_beta(asset_returns, market_returns)\n",
        "print(f\"Calculated Beta: {beta:.2f}\")\n",
        "\n",
        "# Calculate expected return using CAPM\n",
        "expected_return = calculate_expected_return(risk_free_rate, beta, market_return)\n",
        "print(f\"Expected Return (using CAPM): {expected_return:.2f}\")"
      ]
    }
  ]
}